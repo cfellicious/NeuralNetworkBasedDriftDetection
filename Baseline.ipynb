{
 "cells": [
  {
   "cell_type": "code",
   "execution_count": 1,
   "id": "applied-export",
   "metadata": {},
   "outputs": [],
   "source": [
    "import numpy as np\n",
    "import math\n",
    "from tqdm.notebook import tqdm\n",
    "from copy import deepcopy\n",
    "from sklearn.metrics import accuracy_score, roc_auc_score as auc\n",
    "from skmultiflow.trees.hoeffding_tree import HoeffdingTreeClassifier"
   ]
  },
  {
   "cell_type": "code",
   "execution_count": 2,
   "id": "fabulous-peace",
   "metadata": {},
   "outputs": [],
   "source": [
    "# Read the dataset\n",
    "from datasets import read_dataset\n",
    "\n",
    "features, labels = read_dataset()\n",
    "features = np.array(features)"
   ]
  },
  {
   "cell_type": "code",
   "execution_count": 3,
   "id": "european-camcorder",
   "metadata": {},
   "outputs": [],
   "source": [
    "# Define all the constants of the experiment\n",
    "initial_limit = 100"
   ]
  },
  {
   "cell_type": "code",
   "execution_count": 4,
   "id": "fitting-consent",
   "metadata": {},
   "outputs": [
    {
     "data": {
      "text/plain": [
       "19268"
      ]
     },
     "execution_count": 4,
     "metadata": {},
     "output_type": "execute_result"
    }
   ],
   "source": [
    "# Set all the random seeds\n",
    "seed = np.random.randint(65536)\n",
    "seed"
   ]
  },
  {
   "cell_type": "code",
   "execution_count": 5,
   "id": "focal-reunion",
   "metadata": {},
   "outputs": [],
   "source": [
    "# Get the initial training set and standardize it\n",
    "x = features[:initial_limit, :]\n",
    "y = labels[:initial_limit]"
   ]
  },
  {
   "cell_type": "code",
   "execution_count": 6,
   "id": "cheap-salon",
   "metadata": {},
   "outputs": [],
   "source": [
    "classes = np.unique(labels)"
   ]
  },
  {
   "cell_type": "code",
   "execution_count": 7,
   "id": "postal-local",
   "metadata": {},
   "outputs": [],
   "source": [
    "# Create the Hoeffding Tree Classifier\n",
    "clf = HoeffdingTreeClassifier()"
   ]
  },
  {
   "cell_type": "code",
   "execution_count": 8,
   "id": "outdoor-airplane",
   "metadata": {},
   "outputs": [
    {
     "data": {
      "text/plain": [
       "HoeffdingTreeClassifier(binary_split=False, grace_period=200,\n",
       "                        leaf_prediction='nba', max_byte_size=33554432,\n",
       "                        memory_estimate_period=1000000, nb_threshold=0,\n",
       "                        no_preprune=False, nominal_attributes=None,\n",
       "                        remove_poor_atts=False, split_confidence=1e-07,\n",
       "                        split_criterion='info_gain', stop_mem_management=False,\n",
       "                        tie_threshold=0.05)"
      ]
     },
     "execution_count": 8,
     "metadata": {},
     "output_type": "execute_result"
    }
   ],
   "source": [
    "# Train the classifier based on the initial training alone (Initial Train Method)\n",
    "clf.fit(X=x, y=y, classes=classes)"
   ]
  },
  {
   "cell_type": "code",
   "execution_count": 9,
   "id": "intended-signal",
   "metadata": {},
   "outputs": [
    {
     "data": {
      "text/plain": [
       "0.5644076793771565"
      ]
     },
     "execution_count": 9,
     "metadata": {},
     "output_type": "execute_result"
    }
   ],
   "source": [
    "# Predict the accuracy of the Initial Train Method\n",
    "y_pred = clf.predict(features[initial_limit:, :])\n",
    "auc_value = accuracy_score(y_true=labels[initial_limit:], y_pred=y_pred)\n",
    "auc_value"
   ]
  },
  {
   "cell_type": "code",
   "execution_count": 10,
   "id": "developed-clearing",
   "metadata": {},
   "outputs": [
    {
     "data": {
      "text/plain": [
       "HoeffdingTreeClassifier(binary_split=False, grace_period=200,\n",
       "                        leaf_prediction='nba', max_byte_size=33554432,\n",
       "                        memory_estimate_period=1000000, nb_threshold=0,\n",
       "                        no_preprune=False, nominal_attributes=None,\n",
       "                        remove_poor_atts=None, split_confidence=1e-07,\n",
       "                        split_criterion='info_gain', stop_mem_management=False,\n",
       "                        tie_threshold=0.05)"
      ]
     },
     "execution_count": 10,
     "metadata": {},
     "output_type": "execute_result"
    }
   ],
   "source": [
    "# Train the model based on incremental partial fits (Regular Update Method)\n",
    "clf.reset()\n",
    "clf.fit(X=x, y=y, classes=classes)"
   ]
  },
  {
   "cell_type": "code",
   "execution_count": 11,
   "id": "crazy-workplace",
   "metadata": {},
   "outputs": [
    {
     "data": {
      "application/vnd.jupyter.widget-view+json": {
       "model_id": "15299bee17934251afe7e8a0be2f3540",
       "version_major": 2,
       "version_minor": 0
      },
      "text/plain": [
       "  0%|          | 0/45312 [00:00<?, ?it/s]"
      ]
     },
     "metadata": {},
     "output_type": "display_data"
    }
   ],
   "source": [
    "# Set up the progress bar\n",
    "progress_bar = tqdm(total=len(features))\n",
    "progress_bar.update(initial_limit)\n",
    "\n",
    "# Iterate over the whole dataset\n",
    "y_pred = np.zeros(shape=(len(labels)-initial_limit))\n",
    "idx = initial_limit\n",
    "progress_bar.update(initial_limit)\n",
    "while idx<len(labels):\n",
    "    y_hat = clf.predict([features[idx, :]])\n",
    "    y_pred[idx-initial_limit] = y_hat[0]\n",
    "    clf.partial_fit(X=[features[idx, :]], y=[labels[idx]], classes=classes)\n",
    "    idx += 1\n",
    "    progress_bar.update(1)"
   ]
  },
  {
   "cell_type": "code",
   "execution_count": 12,
   "id": "dedicated-forge",
   "metadata": {},
   "outputs": [
    {
     "data": {
      "text/plain": [
       "0.7793284968592409"
      ]
     },
     "execution_count": 12,
     "metadata": {},
     "output_type": "execute_result"
    }
   ],
   "source": [
    "# Predict the accuracy based on the Regular Update Method\n",
    "auc_value = accuracy_score(y_true=labels[initial_limit:], y_pred=y_pred)\n",
    "auc_value"
   ]
  },
  {
   "cell_type": "code",
   "execution_count": 13,
   "id": "international-spencer",
   "metadata": {},
   "outputs": [
    {
     "data": {
      "text/plain": [
       "HoeffdingTreeClassifier(binary_split=False, grace_period=200,\n",
       "                        leaf_prediction='nba', max_byte_size=33554432,\n",
       "                        memory_estimate_period=1000000, nb_threshold=0,\n",
       "                        no_preprune=False, nominal_attributes=None,\n",
       "                        remove_poor_atts=None, split_confidence=1e-07,\n",
       "                        split_criterion='info_gain', stop_mem_management=False,\n",
       "                        tie_threshold=0.05)"
      ]
     },
     "execution_count": 13,
     "metadata": {},
     "output_type": "execute_result"
    }
   ],
   "source": [
    "# Train the model based on on regular resets (Regular Retrain Method)\n",
    "interval = 100\n",
    "clf.reset()\n",
    "clf.fit(X=x, y=y, classes=np.unique(y))"
   ]
  },
  {
   "cell_type": "code",
   "execution_count": 14,
   "id": "prostate-wales",
   "metadata": {},
   "outputs": [
    {
     "data": {
      "application/vnd.jupyter.widget-view+json": {
       "model_id": "f4d850627149496d909c9ce51115155f",
       "version_major": 2,
       "version_minor": 0
      },
      "text/plain": [
       "  0%|          | 0/45312 [00:00<?, ?it/s]"
      ]
     },
     "metadata": {},
     "output_type": "display_data"
    }
   ],
   "source": [
    "# Set up the progress bar\n",
    "progress_bar_new = tqdm(total=len(features))\n",
    "progress_bar_new.update(initial_limit)\n",
    "\n",
    "# Iterate over the whole dataset\n",
    "y_pred = np.empty(shape=(0))\n",
    "idx = initial_limit\n",
    "\n",
    "progress_bar_new.update(initial_limit)\n",
    "\n",
    "while idx+interval<len(labels):\n",
    "    y_hat = clf.predict(features[idx:idx+interval, :])\n",
    "    y_pred = np.hstack((y_pred, y_hat))\n",
    "    # Reset the classifier and retrain\n",
    "    clf.reset()\n",
    "    clf.partial_fit(X=features[idx:idx+interval, :], y=labels[idx:idx+interval], classes=np.unique(y))\n",
    "    idx += interval    \n",
    "    progress_bar_new.update(interval)\n",
    "    \n",
    "# Predict for the remaining dataset\n",
    "y_hat = clf.predict(features[idx:, :])\n",
    "y_pred = np.hstack((y_pred, y_hat))"
   ]
  },
  {
   "cell_type": "code",
   "execution_count": 15,
   "id": "selective-cycling",
   "metadata": {},
   "outputs": [
    {
     "data": {
      "text/plain": [
       "0.7511722551534991"
      ]
     },
     "execution_count": 15,
     "metadata": {},
     "output_type": "execute_result"
    }
   ],
   "source": [
    "# Predict the accuracy based on the Regular Retrain method\n",
    "auc_value = accuracy_score(y_true=labels[initial_limit:], y_pred=y_pred)\n",
    "auc_value"
   ]
  }
 ],
 "metadata": {
  "kernelspec": {
   "display_name": "Python 3",
   "language": "python",
   "name": "python3"
  },
  "language_info": {
   "codemirror_mode": {
    "name": "ipython",
    "version": 3
   },
   "file_extension": ".py",
   "mimetype": "text/x-python",
   "name": "python",
   "nbconvert_exporter": "python",
   "pygments_lexer": "ipython3",
   "version": "3.8.5"
  }
 },
 "nbformat": 4,
 "nbformat_minor": 5
}
